{
 "cells": [
  {
   "cell_type": "code",
   "execution_count": 9,
   "id": "5b39e050-a65b-4b37-bd61-9e13571ddab7",
   "metadata": {},
   "outputs": [
    {
     "name": "stdout",
     "output_type": "stream",
     "text": [
      "['01', '02', '03', '04', '05']\n",
      "[0, 1, 0, 2, 0, 3, 0, 4, 0, 5]\n",
      "False\n"
     ]
    }
   ],
   "source": [
    "def are_digits_unique(num1, num2, num3, num4, num5):\n",
    "    # Convert each number into a two-character string, padding with a zero if necessary\n",
    "    numbers = [f'{num:02d}' for num in [num1, num2, num3, num4, num5]]\n",
    "    print(numbers)\n",
    "    # Combine all the digits into a single list\n",
    "    digits = [int(digit) for number in numbers for digit in number]\n",
    "    print(digits)\n",
    "    # Check if the digits are unique\n",
    "    return len(digits) == len(set(digits))\n",
    "\n",
    "# Example usage\n",
    "result = are_digits_unique(*[1, 2, 3, 4, 5])\n",
    "print(result)  # Output: True if all digits are unique, False otherwise\n",
    "\n"
   ]
  },
  {
   "cell_type": "code",
   "execution_count": 6,
   "id": "db3d4536-3cac-4071-a5bd-f038b0c205f1",
   "metadata": {},
   "outputs": [
    {
     "name": "stdout",
     "output_type": "stream",
     "text": [
      "[1, 2, 3, 4, 5, 6, 7, 8, 9, 10, 12, 13, 14, 15, 16, 17, 18, 19, 20, 21, 23, 24, 25, 26, 27, 28, 29, 30, 31, 32, 34, 35, 36, 37, 38, 39, 40, 41, 42, 43, 45, 46, 47, 48, 49, 50, 51, 52, 53, 54, 56, 57, 58, 59, 60, 61, 62, 63, 64, 65, 67, 68, 69, 70, 71, 72, 73, 74, 75, 76, 78, 79, 80, 81, 82, 83, 84, 85, 86, 87, 89, 90, 91, 92, 93, 94, 95, 96, 97, 98]\n",
      "Total numbers: 90\n"
     ]
    }
   ],
   "source": [
    "def enumerate_two_digit_numbers_with_leading_zero():\n",
    "    digits = [0, 1, 2, 3, 4, 5, 6, 7, 8, 9]\n",
    "    two_digit_numbers = []\n",
    "    \n",
    "    # Loop through all possible pairs of distinct digits\n",
    "    for i in digits:\n",
    "        for j in digits:\n",
    "            if i != j:\n",
    "                # Construct and store the two-digit number\n",
    "                two_digit_numbers.append(i * 10 + j)\n",
    "    \n",
    "    return two_digit_numbers\n",
    "\n",
    "# Example usage\n",
    "numbers = enumerate_two_digit_numbers_with_leading_zero()\n",
    "print(numbers)\n",
    "print(f\"Total numbers: {len(numbers)}\")\n"
   ]
  },
  {
   "cell_type": "code",
   "execution_count": 14,
   "id": "9e407935-86b2-46c4-8c06-aecddc63c393",
   "metadata": {},
   "outputs": [
    {
     "name": "stdout",
     "output_type": "stream",
     "text": [
      "common difference: 9 sequence:[9, 18, 27, 36, 45]\n",
      "common difference: 9 sequence:[54, 63, 72, 81, 90]\n",
      "common difference: 11 sequence:[5, 16, 27, 38, 49]\n",
      "common difference: 11 sequence:[50, 61, 72, 83, 94]\n",
      "common difference: 18 sequence:[9, 27, 45, 63, 81]\n",
      "common difference: 18 sequence:[18, 36, 54, 72, 90]\n",
      "common difference: 22 sequence:[1, 23, 45, 67, 89]\n",
      "common difference: 22 sequence:[10, 32, 54, 76, 98]\n",
      "Total valid sequences: 8\n",
      "Total sum of all numbers across all valid sequences: 1980\n"
     ]
    }
   ],
   "source": [
    "def enumerate_two_digit_numbers_with_leading_zero():\n",
    "    digits = [0, 1, 2, 3, 4, 5, 6, 7, 8, 9]\n",
    "    two_digit_numbers = []\n",
    "    \n",
    "    for i in digits:\n",
    "        for j in digits:\n",
    "            if i != j:\n",
    "                two_digit_numbers.append(i * 10 + j)\n",
    "    \n",
    "    return two_digit_numbers\n",
    "\n",
    "\n",
    "def are_digits_unique(num1, num2, num3, num4, num5):\n",
    "    # Convert each number into a two-character string, padding with a zero if necessary\n",
    "    numbers = [f'{num:02d}' for num in [num1, num2, num3, num4, num5]]\n",
    "    # Combine all the digits into a single list\n",
    "    digits = [int(digit) for number in numbers for digit in number]\n",
    "    # Check if the digits are unique\n",
    "    return len(digits) == len(set(digits))\n",
    "\n",
    "\n",
    "def generate_arithmetic_progressions():\n",
    "    two_digit_numbers = enumerate_two_digit_numbers_with_leading_zero()\n",
    "    valid_sequences = []\n",
    "\n",
    "    for d in range(1, 25):  # For each difference 'd' in range 1 to 24\n",
    "        for num in two_digit_numbers:\n",
    "            # Generate the first 5 numbers of the arithmetic progression\n",
    "            progression = [num + d * i for i in range(5)]\n",
    "            \n",
    "            # Check if all numbers in the progression are <= 98\n",
    "            if all(n <= 98 for n in progression):\n",
    "                # Check if all digits are unique using are_digits_unique()\n",
    "                if are_digits_unique(*progression):\n",
    "                    valid_sequences.append(progression)\n",
    "    \n",
    "    return valid_sequences\n",
    "\n",
    "def sum_all_valid_sequences(valid_arithmetic_progressions):\n",
    "    # Concatenate all valid sequences into one list\n",
    "    all_numbers = [number for progression in valid_arithmetic_progressions for number in progression]\n",
    "    \n",
    "    # Sum all the numbers\n",
    "    total_sum = sum(all_numbers)\n",
    "    \n",
    "    return total_sum\n",
    "    \n",
    "# Example usage\n",
    "valid_arithmetic_progressions = generate_arithmetic_progressions()\n",
    "for sequence in valid_arithmetic_progressions:\n",
    "    print(f\"common difference: {sequence[1]-sequence[0]} sequence:{sequence}\")\n",
    "\n",
    "print(f\"Total valid sequences: {len(valid_arithmetic_progressions)}\")\n",
    "\n",
    "\n",
    "total_sum = sum_all_valid_sequences(valid_arithmetic_progressions)\n",
    "\n",
    "# Print the total sum of all valid sequences\n",
    "print(f\"Total sum of all numbers across all valid sequences: {total_sum}\")"
   ]
  },
  {
   "cell_type": "code",
   "execution_count": 13,
   "id": "d085c19e-ebd7-41cd-b912-47dea9a21d4a",
   "metadata": {},
   "outputs": [
    {
     "data": {
      "text/plain": [
       "False"
      ]
     },
     "execution_count": 13,
     "metadata": {},
     "output_type": "execute_result"
    }
   ],
   "source": [
    "are_digits_unique(*[1, 2, 3, 4, 5])"
   ]
  },
  {
   "cell_type": "code",
   "execution_count": null,
   "id": "2e3d71cb-9c00-4b74-a611-f9f7325dedce",
   "metadata": {},
   "outputs": [],
   "source": []
  }
 ],
 "metadata": {
  "kernelspec": {
   "display_name": "Python 3 (ipykernel)",
   "language": "python",
   "name": "python3"
  },
  "language_info": {
   "codemirror_mode": {
    "name": "ipython",
    "version": 3
   },
   "file_extension": ".py",
   "mimetype": "text/x-python",
   "name": "python",
   "nbconvert_exporter": "python",
   "pygments_lexer": "ipython3",
   "version": "3.10.14"
  }
 },
 "nbformat": 4,
 "nbformat_minor": 5
}
